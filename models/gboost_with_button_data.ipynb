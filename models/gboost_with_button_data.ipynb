{
 "cells": [
  {
   "cell_type": "code",
   "execution_count": 44,
   "metadata": {
    "collapsed": false
   },
   "outputs": [],
   "source": [
    "import pandas as pd\n",
    "import numpy as np\n",
    "from IPython.display import HTML\n",
    "\n",
    "data = pd.read_csv('mean_channel_data.csv')\n",
    "labels = list(data.columns.values)\n",
    "del labels[0]\n",
    "del labels[0]\n",
    "\n",
    "targets = data['Phenotype']\n",
    "del data['Subject']\n",
    "del data['Phenotype']"
   ]
  },
  {
   "cell_type": "code",
   "execution_count": 45,
   "metadata": {
    "collapsed": false
   },
   "outputs": [],
   "source": [
    "from sklearn import preprocessing\n",
    "from sklearn import feature_selection\n",
    "from sklearn import cross_validation\n",
    "\n",
    "folds = 10\n",
    "\n",
    "data = data[[\"ButtonAcc\", \"P3aDAvgA\", \"FalseAlarm\"]]\n",
    "imp = preprocessing.Imputer()\n",
    "data = imp.fit_transform(data, targets)\n",
    "data = preprocessing.scale(data)\n"
   ]
  },
  {
   "cell_type": "code",
   "execution_count": 46,
   "metadata": {
    "collapsed": false
   },
   "outputs": [
    {
     "name": "stdout",
     "output_type": "stream",
     "text": [
      "0.858626315789\n",
      "0.0736306499389\n"
     ]
    }
   ],
   "source": [
    "from sklearn.ensemble import GradientBoostingClassifier\n",
    "from sklearn import grid_search\n",
    "\n",
    "\n",
    "gboost_model = GradientBoostingClassifier(\n",
    "    max_depth=2, min_samples_split=35, min_samples_leaf=1, n_estimators=110, learning_rate=0.135)\n",
    "\n",
    "scores = []\n",
    "stddev = []\n",
    "for i in range(50):\n",
    "    cross_val = cross_validation.KFold(n=198, n_folds=folds, shuffle=True)\n",
    "    gboost_score = cross_validation.cross_val_score(gboost_model, data, targets, cv=cross_val)\n",
    "    scores.append(np.mean(gboost_score))\n",
    "    stddev.append(np.std(gboost_score))\n",
    "\n",
    "print(np.mean(scores))\n",
    "print(np.mean(stddev))"
   ]
  }
 ],
 "metadata": {
  "kernelspec": {
   "display_name": "Python 3",
   "language": "python",
   "name": "python3"
  },
  "language_info": {
   "codemirror_mode": {
    "name": "ipython",
    "version": 3
   },
   "file_extension": ".py",
   "mimetype": "text/x-python",
   "name": "python",
   "nbconvert_exporter": "python",
   "pygments_lexer": "ipython3",
   "version": "3.4.3+"
  }
 },
 "nbformat": 4,
 "nbformat_minor": 0
}
