{
 "cells": [
  {
   "cell_type": "code",
   "execution_count": 44,
   "metadata": {
    "collapsed": true
   },
   "outputs": [],
   "source": [
    "import pandas as pd\n",
    "import numpy as np\n",
    "from IPython.display import HTML\n",
    "import warnings\n",
    "\n",
    "data = pd.read_csv('../data/ERP_data.csv')\n",
    "labels = list(data.columns.values)\n",
    "del labels[0]\n",
    "del labels[0]\n",
    "\n",
    "targets = data['Phenotype']\n",
    "del data['Subject']\n",
    "del data['Phenotype']"
   ]
  },
  {
   "cell_type": "code",
   "execution_count": 45,
   "metadata": {
    "collapsed": false
   },
   "outputs": [
    {
     "name": "stdout",
     "output_type": "stream",
     "text": [
      "4         P200DAFz\n",
      "22         P3aDACz\n",
      "32         P3bTAPz\n",
      "34         P3aDAPz\n",
      "40        P200DAF3\n",
      "58         P3aDAP3\n",
      "64        P200DAF4\n",
      "82         P3aDAP4\n",
      "87     N100SAvgAFz\n",
      "92     P200DAvgAFz\n",
      "96      P3aDAvgAFz\n",
      "100    N100SAvgACz\n",
      "109     P3aDAvgACz\n",
      "122     P3aDAvgAPz\n",
      "131    P200DAvgAF3\n",
      "135     P3aDAvgAF3\n",
      "148     P3aDAvgAP3\n",
      "157    P200DAvgAF4\n",
      "161     P3aDAvgAF4\n",
      "174     P3aDAvgAP4\n",
      "175        Missing\n",
      "dtype: object\n",
      "[ 0.5   1.    0.82  1.    1.    1.    1.    1.    1.    0.98  0.7   1.    1.\n",
      "  1.    1.    0.92  1.    1.    1.    1.    1.  ]\n",
      "0        P200DAFz\n",
      "1         P3aDACz\n",
      "2         P3bTAPz\n",
      "3         P3aDAPz\n",
      "4        P200DAF3\n",
      "5         P3aDAP3\n",
      "6        P200DAF4\n",
      "7         P3aDAP4\n",
      "8     N100SAvgAFz\n",
      "9     P200DAvgAFz\n",
      "10     P3aDAvgAFz\n",
      "11    N100SAvgACz\n",
      "12     P3aDAvgACz\n",
      "13     P3aDAvgAPz\n",
      "14    P200DAvgAF3\n",
      "15     P3aDAvgAF3\n",
      "16     P3aDAvgAP3\n",
      "17    P200DAvgAF4\n",
      "18     P3aDAvgAF4\n",
      "19     P3aDAvgAP4\n",
      "20        Missing\n",
      "dtype: object\n"
     ]
    }
   ],
   "source": [
    "from sklearn import preprocessing, feature_selection, cross_validation, linear_model\n",
    "\n",
    "folds = 10\n",
    "\n",
    "imp = preprocessing.Imputer()\n",
    "data = imp.fit_transform(data, targets)\n",
    "data = preprocessing.scale(data)\n",
    "anova_selection = feature_selection.SelectKBest(feature_selection.f_classif, k=21)\n",
    "features_selected = anova_selection.fit(data, targets).get_support(indices=True)\n",
    "labels = pd.Series(labels)[features_selected]\n",
    "print(labels)\n",
    "data = anova_selection.transform(data)\n",
    "data = pd.DataFrame(data, columns=labels)\n",
    "\n",
    "clf = linear_model.LogisticRegression(C=.001)\n",
    "\n",
    "features_selected = []\n",
    "for i in range(50):\n",
    "    cross_val = cross_validation.StratifiedKFold(targets, n_folds=folds, shuffle=True)\n",
    "    rfecv = feature_selection.RFECV(clf, cv=cross_val)\n",
    "    rfecv.fit(data, targets)\n",
    "    features_selected.append(rfecv.get_support())\n",
    "    \n",
    "feature_probs = np.mean(np.asarray(features_selected).astype(float), axis=0)\n",
    "print(feature_probs)\n",
    "features_selected = (feature_probs >= 0.5).nonzero()[0]\n",
    "labels = pd.Series(np.asarray(labels))[features_selected]\n",
    "print(labels)\n",
    "data = data[labels]"
   ]
  },
  {
   "cell_type": "code",
   "execution_count": 46,
   "metadata": {
    "collapsed": false
   },
   "outputs": [
    {
     "name": "stdout",
     "output_type": "stream",
     "text": [
      "Accuracy: 0.7077135678391958, with std: 0.005941082153965935\n",
      "Precision: 0.6848915962626434\n",
      "Recall: 0.763989898989899\n",
      "F1 Score: 0.7222659406855653\n",
      "Confusion Matrix:\n",
      "   HC     AD\n",
      "[[ 65.2    34.8  ]\n",
      " [ 23.365  75.635]]\n"
     ]
    }
   ],
   "source": [
    "from sklearn import metrics\n",
    "\n",
    "accuracies = []\n",
    "precisions = []\n",
    "recalls = []\n",
    "fscores = []\n",
    "confusions = []\n",
    "warnings.filterwarnings(\"ignore\")\n",
    "for i in range(200):\n",
    "    cross_val = cross_validation.StratifiedKFold(targets, n_folds=folds, shuffle=True)\n",
    "    preds = cross_validation.cross_val_predict(clf, data, targets, cv=cross_val)\n",
    "    accuracy = metrics.accuracy_score(targets, preds)\n",
    "    precision, recall, fscore, support = metrics.precision_recall_fscore_support(\n",
    "        targets, preds, average='binary', pos_label='AD')\n",
    "    confusion = metrics.confusion_matrix(targets, preds, labels=['HC', 'AD'])\n",
    "    accuracies.append(accuracy)\n",
    "    precisions.append(precision)\n",
    "    recalls.append(recall)\n",
    "    fscores.append(fscore)\n",
    "    confusions.append(confusion)\n",
    "\n",
    "print(\"Accuracy: {0}, with std: {1}\".format(np.mean(accuracies), np.std(accuracies)))\n",
    "print(\"Precision: {0}\".format(np.mean(precisions)))\n",
    "print(\"Recall: {0}\".format(np.mean(recalls)))\n",
    "print(\"F1 Score: {0}\".format(np.mean(fscores)))\n",
    "print(\"Confusion Matrix:\\n   HC     AD\\n{0}\".format(np.mean(confusions, axis=0)))"
   ]
  },
  {
   "cell_type": "code",
   "execution_count": null,
   "metadata": {
    "collapsed": true
   },
   "outputs": [],
   "source": []
  }
 ],
 "metadata": {
  "kernelspec": {
   "display_name": "Python 3",
   "language": "python",
   "name": "python3"
  },
  "language_info": {
   "codemirror_mode": {
    "name": "ipython",
    "version": 3
   },
   "file_extension": ".py",
   "mimetype": "text/x-python",
   "name": "python",
   "nbconvert_exporter": "python",
   "pygments_lexer": "ipython3",
   "version": "3.4.3+"
  }
 },
 "nbformat": 4,
 "nbformat_minor": 0
}
