{
 "cells": [
  {
   "cell_type": "code",
   "execution_count": 1,
   "metadata": {
    "collapsed": true
   },
   "outputs": [],
   "source": [
    "import pandas as pd\n",
    "import numpy as np\n",
    "import warnings\n",
    "\n",
    "data = pd.read_csv('../data/ERP_data.csv')\n",
    "labels = list(data.columns.values)\n",
    "del labels[0]\n",
    "del labels[0]\n",
    "\n",
    "targets = data['Phenotype']\n",
    "del data['Subject']\n",
    "del data['Phenotype']"
   ]
  },
  {
   "cell_type": "code",
   "execution_count": 2,
   "metadata": {
    "collapsed": false
   },
   "outputs": [],
   "source": [
    "from sklearn import preprocessing\n",
    "from sklearn import feature_selection\n",
    "from sklearn import cross_validation\n",
    "\n",
    "folds = 10\n",
    "\n",
    "imp = preprocessing.Imputer()\n",
    "data = imp.fit_transform(data, targets)\n",
    "data = preprocessing.scale(data)\n",
    "\n",
    "big_feature_data = feature_selection.SelectKBest(feature_selection.f_classif, k=22).fit_transform(data, targets)\n",
    "med_feature_data = feature_selection.SelectKBest(feature_selection.f_classif, k=16).fit_transform(data, targets)\n",
    "small_feature_data = feature_selection.SelectKBest(feature_selection.f_classif, k=12).fit_transform(data, targets)\n",
    "# rachels_magic_feature_data = np.asarray(pd.DataFrame(data, columns=labels)[['P3aDACz', 'P200DAF3', 'P200DAF4', 'P3aDAvgACz',\n",
    "             # 'P3aDAvgAF3', 'P3aDAP4', 'P3aDAvgAFz', 'P200DAvgAF4', 'P3aDAvgAF4']])"
   ]
  },
  {
   "cell_type": "code",
   "execution_count": 3,
   "metadata": {
    "collapsed": false,
    "scrolled": true
   },
   "outputs": [
    {
     "name": "stdout",
     "output_type": "stream",
     "text": [
      "Test Accuracy: 0.7348994974874372, with std: 0.01807297802056861\n",
      "Train Accuracy: 0.9628307107386714, with std: 0.007958273222725758\n",
      "Precision: 0.7501982150150295\n",
      "Recall: 0.7012121212121213\n",
      "F1 Score: 0.7246150100318411\n",
      "Confusion Matrix:\n",
      "   HC     AD\n",
      "[[ 76.825  23.175]\n",
      " [ 29.58   69.42 ]]\n"
     ]
    }
   ],
   "source": [
    "from sklearn import linear_model, svm, neighbors, ensemble, naive_bayes, discriminant_analysis\n",
    "from sklearn import pipeline\n",
    "from sklearn import metrics\n",
    "\n",
    "logreg_model = linear_model.LogisticRegression(C=.001)\n",
    "lin_svm_model = svm.LinearSVC(C=0.0001)\n",
    "svm_model = svm.SVC(C=0.66)\n",
    "neighbors_model = neighbors.KNeighborsClassifier(n_neighbors=13)\n",
    "naive_bayes_model = naive_bayes.GaussianNB()\n",
    "lda_model = discriminant_analysis.LinearDiscriminantAnalysis(solver='eigen', shrinkage=0.2)\n",
    "rf_model = ensemble.RandomForestClassifier(n_estimators=20, min_samples_split=3, min_samples_leaf=2)\n",
    "adaboost_model = ensemble.AdaBoostClassifier()\n",
    "gboost_model = ensemble.GradientBoostingClassifier(min_samples_split=35, learning_rate=0.5)\n",
    "stack_logreg_model = linear_model.LogisticRegression(C=0.1)\n",
    "# stack_gboost_model = ensemble.GradientBoostingClassifier()\n",
    "\n",
    "pairs = []\n",
    "pairs.append((big_feature_data, logreg_model))\n",
    "pairs.append((big_feature_data, lin_svm_model))\n",
    "pairs.append((med_feature_data, svm_model))\n",
    "pairs.append((big_feature_data, neighbors_model))\n",
    "pairs.append((big_feature_data, naive_bayes_model))\n",
    "pairs.append((big_feature_data, lda_model))\n",
    "pairs.append((small_feature_data, rf_model))\n",
    "pairs.append((small_feature_data, adaboost_model))\n",
    "pairs.append((small_feature_data, gboost_model))\n",
    "le = preprocessing.LabelEncoder()\n",
    "\n",
    "accuracies = []\n",
    "train_accuracies = []\n",
    "precisions = []\n",
    "recalls = []\n",
    "fscores = []\n",
    "confusions = []\n",
    "warnings.filterwarnings(\"ignore\")\n",
    "for i in range(200):\n",
    "    cross_val = cross_validation.StratifiedKFold(targets, n_folds=folds, shuffle=True)\n",
    "    y_truth = []\n",
    "    y_preds = []\n",
    "    for train, test in cross_val:\n",
    "        y_train, y_test = targets[train], targets[test]\n",
    "        pred_features = np.transpose([le.fit_transform(clf.fit(dataset[train], y_train).predict(dataset)) \n",
    "                                      for dataset, clf in pairs])\n",
    "        y_truth.extend(y_test)\n",
    "        clf = stack_logreg_model.fit(pred_features[train], y_train)\n",
    "        preds = clf.predict(pred_features[test])\n",
    "        y_preds.extend(preds)\n",
    "        train_accuracies.append(metrics.accuracy_score(clf.predict(pred_features[train]), y_train))\n",
    "    \n",
    "    accuracy = metrics.accuracy_score(y_truth, y_preds)\n",
    "    precision, recall, fscore, support = metrics.precision_recall_fscore_support(\n",
    "        y_truth, y_preds, average='binary', pos_label='AD')\n",
    "    confusion = metrics.confusion_matrix(y_truth, y_preds, labels=['HC', 'AD'])\n",
    "    accuracies.append(accuracy)\n",
    "    precisions.append(precision)\n",
    "    recalls.append(recall)\n",
    "    fscores.append(fscore)\n",
    "    confusions.append(confusion)\n",
    "\n",
    "print(\"Test Accuracy: {0}, with std: {1}\".format(np.mean(accuracies), np.std(accuracies)))\n",
    "print(\"Train Accuracy: {0}, with std: {1}\".format(np.mean(train_accuracies), np.std(train_accuracies)))\n",
    "print(\"Precision: {0}\".format(np.mean(precisions)))\n",
    "print(\"Recall: {0}\".format(np.mean(recalls)))\n",
    "print(\"F1 Score: {0}\".format(np.mean(fscores)))\n",
    "print(\"Confusion Matrix:\\n   HC     AD\\n{0}\".format(np.mean(confusions, axis=0)))"
   ]
  }
 ],
 "metadata": {
  "kernelspec": {
   "display_name": "Python 3",
   "language": "python",
   "name": "python3"
  },
  "language_info": {
   "codemirror_mode": {
    "name": "ipython",
    "version": 3
   },
   "file_extension": ".py",
   "mimetype": "text/x-python",
   "name": "python",
   "nbconvert_exporter": "python",
   "pygments_lexer": "ipython3",
   "version": "3.4.3"
  }
 },
 "nbformat": 4,
 "nbformat_minor": 0
}
