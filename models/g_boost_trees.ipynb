{
 "cells": [
  {
   "cell_type": "code",
   "execution_count": 65,
   "metadata": {
    "collapsed": true
   },
   "outputs": [],
   "source": [
    "import pandas as pd\n",
    "import numpy as np\n",
    "import warnings\n",
    "\n",
    "data = pd.read_csv('../data/ERP_data.csv')\n",
    "labels = list(data.columns.values)\n",
    "del labels[0]\n",
    "del labels[0]\n",
    "\n",
    "targets = data['Phenotype']\n",
    "del data['Subject']\n",
    "del data['Phenotype']"
   ]
  },
  {
   "cell_type": "code",
   "execution_count": 66,
   "metadata": {
    "collapsed": false
   },
   "outputs": [
    {
     "name": "stdout",
     "output_type": "stream",
     "text": [
      "22         P3aDACz\n",
      "34         P3aDAPz\n",
      "40        P200DAF3\n",
      "58         P3aDAP3\n",
      "82         P3aDAP4\n",
      "96      P3aDAvgAFz\n",
      "109     P3aDAvgACz\n",
      "122     P3aDAvgAPz\n",
      "131    P200DAvgAF3\n",
      "148     P3aDAvgAP3\n",
      "161     P3aDAvgAF4\n",
      "174     P3aDAvgAP4\n",
      "dtype: object\n"
     ]
    },
    {
     "data": {
      "text/plain": [
       "'\\nfeatures_selected = []\\nfor i in range(50):\\n    cross_val = cross_validation.StratifiedKFold(targets, n_folds=folds, shuffle=True)\\n    rfecv = feature_selection.RFECV(clf, cv=cross_val)\\n    rfecv.fit(data, targets)\\n    features_selected.append(rfecv.get_support())\\n    \\nfeature_probs = np.mean(np.asarray(features_selected).astype(float), axis=0)\\nprint(feature_probs)\\nfeatures_selected = (feature_probs >= 0.5).nonzero()[0]\\nlabels = pd.Series(np.asarray(labels))[features_selected]\\nprint(labels)\\ndata = data[labels]\\n'"
      ]
     },
     "execution_count": 66,
     "metadata": {},
     "output_type": "execute_result"
    }
   ],
   "source": [
    "from sklearn import preprocessing, feature_selection, cross_validation, ensemble\n",
    "\n",
    "folds = 10\n",
    "\n",
    "imp = preprocessing.Imputer()\n",
    "data = imp.fit_transform(data, targets)\n",
    "data = preprocessing.scale(data)\n",
    "anova_selection = feature_selection.SelectKBest(feature_selection.f_classif, k=12)\n",
    "features_selected = anova_selection.fit(data, targets).get_support(indices=True)\n",
    "labels = pd.Series(labels)[features_selected]\n",
    "print(labels)\n",
    "data = anova_selection.transform(data)\n",
    "# data = pd.DataFrame(data, columns=labels)\n",
    "\n",
    "clf = ensemble.GradientBoostingClassifier(min_samples_split=35, learning_rate=0.5, n_estimators=110)\n",
    "\n",
    "'''\n",
    "features_selected = []\n",
    "for i in range(50):\n",
    "    cross_val = cross_validation.StratifiedKFold(targets, n_folds=folds, shuffle=True)\n",
    "    rfecv = feature_selection.RFECV(clf, cv=cross_val)\n",
    "    rfecv.fit(data, targets)\n",
    "    features_selected.append(rfecv.get_support())\n",
    "    \n",
    "feature_probs = np.mean(np.asarray(features_selected).astype(float), axis=0)\n",
    "print(feature_probs)\n",
    "features_selected = (feature_probs >= 0.5).nonzero()[0]\n",
    "labels = pd.Series(np.asarray(labels))[features_selected]\n",
    "print(labels)\n",
    "data = data[labels]\n",
    "'''"
   ]
  },
  {
   "cell_type": "code",
   "execution_count": 67,
   "metadata": {
    "collapsed": false
   },
   "outputs": [
    {
     "name": "stdout",
     "output_type": "stream",
     "text": [
      "Accuracy: 0.7280150753768844, with std: 0.019681162898211414\n",
      "Precision: 0.7190116287707086\n",
      "Recall: 0.7449494949494948\n",
      "F1 Score: 0.7315098484114378\n",
      "Confusion Matrix:\n",
      "   HC     AD\n",
      "[[ 71.125  28.875]\n",
      " [ 25.25   73.75 ]]\n"
     ]
    }
   ],
   "source": [
    "from sklearn import metrics\n",
    "\n",
    "accuracies = []\n",
    "precisions = []\n",
    "recalls = []\n",
    "fscores = []\n",
    "confusions = []\n",
    "warnings.filterwarnings(\"ignore\")\n",
    "for i in range(200):\n",
    "    cross_val = cross_validation.StratifiedKFold(targets, n_folds=folds, shuffle=True)\n",
    "    preds = cross_validation.cross_val_predict(clf, data, targets, cv=cross_val)\n",
    "    accuracy = metrics.accuracy_score(targets, preds)\n",
    "    precision, recall, fscore, support = metrics.precision_recall_fscore_support(\n",
    "        targets, preds, average='binary', pos_label='AD')\n",
    "    confusion = metrics.confusion_matrix(targets, preds, labels=['HC', 'AD'])\n",
    "    accuracies.append(accuracy)\n",
    "    precisions.append(precision)\n",
    "    recalls.append(recall)\n",
    "    fscores.append(fscore)\n",
    "    confusions.append(confusion)\n",
    "\n",
    "print(\"Accuracy: {0}, with std: {1}\".format(np.mean(accuracies), np.std(accuracies)))\n",
    "print(\"Precision: {0}\".format(np.mean(precisions)))\n",
    "print(\"Recall: {0}\".format(np.mean(recalls)))\n",
    "print(\"F1 Score: {0}\".format(np.mean(fscores)))\n",
    "print(\"Confusion Matrix:\\n   HC     AD\\n{0}\".format(np.mean(confusions, axis=0)))"
   ]
  }
 ],
 "metadata": {
  "kernelspec": {
   "display_name": "Python 3",
   "language": "python",
   "name": "python3"
  },
  "language_info": {
   "codemirror_mode": {
    "name": "ipython",
    "version": 3
   },
   "file_extension": ".py",
   "mimetype": "text/x-python",
   "name": "python",
   "nbconvert_exporter": "python",
   "pygments_lexer": "ipython3",
   "version": "3.4.3+"
  }
 },
 "nbformat": 4,
 "nbformat_minor": 0
}
