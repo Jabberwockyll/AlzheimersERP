{
 "cells": [
  {
   "cell_type": "code",
   "execution_count": 4,
   "metadata": {
    "collapsed": true
   },
   "outputs": [],
   "source": [
    "import pandas as pd\n",
    "import numpy as np\n",
    "from IPython.display import HTML\n",
    "import warnings\n",
    "\n",
    "data = pd.read_csv('../data/ERP_data.csv')\n",
    "labels = list(data.columns.values)\n",
    "del labels[0]\n",
    "del labels[0]\n",
    "\n",
    "targets = data['Phenotype']\n",
    "del data['Subject']\n",
    "del data['Phenotype']"
   ]
  },
  {
   "cell_type": "code",
   "execution_count": 5,
   "metadata": {
    "collapsed": true
   },
   "outputs": [],
   "source": [
    "from sklearn import preprocessing\n",
    "from sklearn import feature_selection\n",
    "from sklearn import cross_validation\n",
    "\n",
    "folds = 10\n",
    "\n",
    "imp = preprocessing.Imputer()\n",
    "data = imp.fit_transform(data, targets)\n",
    "data = preprocessing.scale(data)\n",
    "anova_selection = feature_selection.SelectKBest(feature_selection.f_classif, k=22)"
   ]
  },
  {
   "cell_type": "code",
   "execution_count": 6,
   "metadata": {
    "collapsed": false
   },
   "outputs": [
    {
     "name": "stdout",
     "output_type": "stream",
     "text": [
      "Accuracy: 0.6506281407035176, with std: 0.020614885047412764\n",
      "Precision: 0.6355777559829202\n",
      "Recall: 0.6987878787878787\n",
      "F1 Score: 0.6653877408886611\n",
      "Confusion Matrix:\n",
      "   HC     AD\n",
      "[[ 60.295  39.705]\n",
      " [ 29.82   69.18 ]]\n"
     ]
    }
   ],
   "source": [
    "from sklearn import neighbors\n",
    "from sklearn import pipeline\n",
    "from sklearn import metrics\n",
    "\n",
    "neighbors_model = neighbors.KNeighborsClassifier(n_neighbors=13)\n",
    "\n",
    "clf = pipeline.make_pipeline(anova_selection, neighbors_model)\n",
    "\n",
    "accuracies = []\n",
    "precisions = []\n",
    "recalls = []\n",
    "fscores = []\n",
    "confusions = []\n",
    "warnings.filterwarnings(\"ignore\")\n",
    "for i in range(200):\n",
    "    cross_val = cross_validation.StratifiedKFold(targets, n_folds=folds, shuffle=True)\n",
    "    preds = cross_validation.cross_val_predict(clf, data, targets, cv=cross_val)\n",
    "    accuracy = metrics.accuracy_score(targets, preds)\n",
    "    precision, recall, fscore, support = metrics.precision_recall_fscore_support(\n",
    "        targets, preds, average='binary', pos_label='AD')\n",
    "    confusion = metrics.confusion_matrix(targets, preds, labels=['HC', 'AD'])\n",
    "    accuracies.append(accuracy)\n",
    "    precisions.append(precision)\n",
    "    recalls.append(recall)\n",
    "    fscores.append(fscore)\n",
    "    confusions.append(confusion)\n",
    "\n",
    "print(\"Accuracy: {0}, with std: {1}\".format(np.mean(accuracies), np.std(accuracies)))\n",
    "print(\"Precision: {0}\".format(np.mean(precisions)))\n",
    "print(\"Recall: {0}\".format(np.mean(recalls)))\n",
    "print(\"F1 Score: {0}\".format(np.mean(fscores)))\n",
    "print(\"Confusion Matrix:\\n   HC     AD\\n{0}\".format(np.mean(confusions, axis=0)))"
   ]
  }
 ],
 "metadata": {
  "kernelspec": {
   "display_name": "Python 3",
   "language": "python",
   "name": "python3"
  },
  "language_info": {
   "codemirror_mode": {
    "name": "ipython",
    "version": 3
   },
   "file_extension": ".py",
   "mimetype": "text/x-python",
   "name": "python",
   "nbconvert_exporter": "python",
   "pygments_lexer": "ipython3",
   "version": "3.4.3"
  }
 },
 "nbformat": 4,
 "nbformat_minor": 0
}
